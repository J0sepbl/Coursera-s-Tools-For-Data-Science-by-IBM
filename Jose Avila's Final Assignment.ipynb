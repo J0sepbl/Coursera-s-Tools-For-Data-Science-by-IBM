{
  "metadata": {
    "kernelspec": {
      "name": "python",
      "display_name": "Pyolite",
      "language": "python"
    },
    "language_info": {
      "codemirror_mode": {
        "name": "python",
        "version": 3
      },
      "file_extension": ".py",
      "mimetype": "text/x-python",
      "name": "python",
      "nbconvert_exporter": "python",
      "pygments_lexer": "ipython3",
      "version": "3.8"
    }
  },
  "nbformat_minor": 4,
  "nbformat": 4,
  "cells": [
    {
      "cell_type": "markdown",
      "source": "<center>\n    <img src=\"https://s3-api.us-geo.objectstorage.softlayer.net/cf-courses-data/CognitiveClass/Logos/organization_logo/organization_logo.png\" width=\"300\" alt=\"cognitiveclass.ai logo\"  />\n</center>\n",
      "metadata": {}
    },
    {
      "cell_type": "markdown",
      "source": "# My Jupyter Notebook on IBM Watson Studio",
      "metadata": {
        "tags": []
      }
    },
    {
      "cell_type": "markdown",
      "source": "__Jose Avila__\n\nIm currently working in the distribution and logistics industry but, i would love to work in data analytics for the a criminal justice agency.",
      "metadata": {}
    },
    {
      "cell_type": "markdown",
      "source": "_Im Interested in data analytics because I love the idea of being able to code/build a model that can help me predict the likelyhood that a past offender will commit more crimes based on previous data we have collected._ ",
      "metadata": {}
    },
    {
      "cell_type": "markdown",
      "source": "### This code is meant to show the division of an even number by an odd number",
      "metadata": {}
    },
    {
      "cell_type": "code",
      "source": "10/3",
      "metadata": {
        "trusted": true
      },
      "execution_count": 4,
      "outputs": [
        {
          "execution_count": 4,
          "output_type": "execute_result",
          "data": {
            "text/plain": "3.3333333333333335"
          },
          "metadata": {}
        }
      ]
    },
    {
      "cell_type": "markdown",
      "source": "_______\n**THINGS TO BUY AT THE GROCERY STORE:**\n- Eggs\n- Milk\n- Cereal\n\n_____\n\n**Foods that are Good for You**\n\nFood|Good|Bad\n---|---|---|\nSweets||✓\nVegetable|✓||\nFruit|✓||\n______\n\n**This is a link to Google's Home Page:** \n\n<a>www.google.com<a>\n    \nBecause we do not like <s>www.Bing.com<s>\n______",
      "metadata": {}
    }
  ]
}
